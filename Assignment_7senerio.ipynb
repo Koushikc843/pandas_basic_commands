{
  "nbformat": 4,
  "nbformat_minor": 0,
  "metadata": {
    "colab": {
      "provenance": [],
      "authorship_tag": "ABX9TyNpwr30h6Ewi6sQretR0Fbb",
      "include_colab_link": true
    },
    "kernelspec": {
      "name": "python3",
      "display_name": "Python 3"
    },
    "language_info": {
      "name": "python"
    }
  },
  "cells": [
    {
      "cell_type": "markdown",
      "metadata": {
        "id": "view-in-github",
        "colab_type": "text"
      },
      "source": [
        "<a href=\"https://colab.research.google.com/github/Koushikc843/pandas_basic_commands/blob/main/Assignment_7senerio.ipynb\" target=\"_parent\"><img src=\"https://colab.research.google.com/assets/colab-badge.svg\" alt=\"Open In Colab\"/></a>"
      ]
    },
    {
      "cell_type": "markdown",
      "source": [
        "1].**Teachers inputs marks for multiple students across multiple subjects and calculates the average marks for each student bold text **"
      ],
      "metadata": {
        "id": "B6q-V_Ix-E1Y"
      }
    },
    {
      "cell_type": "code",
      "execution_count": null,
      "metadata": {
        "colab": {
          "base_uri": "https://localhost:8080/"
        },
        "id": "uMDApFhK8syD",
        "outputId": "5bb322b5-5add-4e8d-9213-23834512a580"
      },
      "outputs": [
        {
          "output_type": "stream",
          "name": "stdout",
          "text": [
            "Enter the number of students: 2\n",
            "Enter the number of subjects: 2\n",
            "\n",
            "Enter marks for Student 1:\n",
            "Subject 1: 90\n",
            "Subject 2: 90\n",
            "\n",
            "Enter marks for Student 2:\n",
            "Subject 1: 85\n",
            "Subject 2: 86\n",
            "\n",
            "Student-wise Average Marks:\n",
            "Student 1: 90.00\n",
            "Student 2: 85.50\n"
          ]
        }
      ],
      "source": [
        "import array\n",
        "\n",
        "# Function to calculate average marks for each student\n",
        "def calculate_average_marks(students_marks):\n",
        "    averages = []\n",
        "    for marks in students_marks:\n",
        "        avg = sum(marks) / len(marks)\n",
        "        averages.append(avg)\n",
        "    return averages\n",
        "\n",
        "# Input: Number of students and subjects\n",
        "num_students = int(input(\"Enter the number of students: \"))\n",
        "num_subjects = int(input(\"Enter the number of subjects: \"))\n",
        "\n",
        "# Creating an array of arrays to store marks for each student\n",
        "students_marks = []\n",
        "\n",
        "for i in range(num_students):\n",
        "    print(f\"\\nEnter marks for Student {i + 1}:\")\n",
        "    marks = array.array('i', [int(input(f\"Subject {j + 1}: \")) for j in range(num_subjects)])\n",
        "    students_marks.append(marks)\n",
        "\n",
        "# Calculating average marks\n",
        "average_marks = calculate_average_marks(students_marks)\n",
        "\n",
        "# Displaying results\n",
        "print(\"\\nStudent-wise Average Marks:\")\n",
        "for i, avg in enumerate(average_marks):\n",
        "    print(f\"Student {i + 1}: {avg:.2f}\")\n"
      ]
    },
    {
      "cell_type": "markdown",
      "source": [
        "2].**A warehouse manager enters the stock levels for products.The program checks if any product's stock is below the threshold**"
      ],
      "metadata": {
        "id": "ThV9i_q8-SJt"
      }
    },
    {
      "cell_type": "code",
      "source": [
        "import array\n",
        "\n",
        "# Function to check stock levels\n",
        "def check_stock_levels(stock_levels, threshold):\n",
        "    low_stock_products = []\n",
        "    for i, stock in enumerate(stock_levels):\n",
        "        if stock < threshold:\n",
        "            low_stock_products.append((i + 1, stock))  # Store product index and stock value\n",
        "    return low_stock_products\n",
        "\n",
        "# Input: Number of products\n",
        "num_products = int(input(\"Enter the number of products: \"))\n",
        "\n",
        "# Creating an array to store stock levels\n",
        "stock_levels = array.array('i', [])\n",
        "\n",
        "# Taking stock level input\n",
        "for i in range(num_products):\n",
        "    stock = int(input(f\"Enter stock level for Product {i + 1}: \"))\n",
        "    stock_levels.append(stock)\n",
        "\n",
        "# Input: Stock threshold\n",
        "threshold = int(input(\"\\nEnter the stock threshold: \"))\n",
        "\n",
        "# Checking for low stock products\n",
        "low_stock = check_stock_levels(stock_levels, threshold)\n",
        "\n",
        "# Display results\n",
        "if low_stock:\n",
        "    print(\"\\nProducts below the threshold:\")\n",
        "    for product_id, stock in low_stock:\n",
        "        print(f\"Product {product_id}: Stock = {stock}\")\n",
        "else:\n",
        "    print(\"\\nAll products have sufficient stock!\")\n"
      ],
      "metadata": {
        "colab": {
          "base_uri": "https://localhost:8080/"
        },
        "id": "AH0FVei3_Cy5",
        "outputId": "007c72ac-0925-40b3-f817-a96a1d210ab8"
      },
      "execution_count": null,
      "outputs": [
        {
          "output_type": "stream",
          "name": "stdout",
          "text": [
            "Enter the number of products: 3\n",
            "Enter stock level for Product 1: 20\n",
            "Enter stock level for Product 2: 30\n",
            "Enter stock level for Product 3: 30\n",
            "\n",
            "Enter the stock threshold: 20\n",
            "\n",
            "All products have sufficient stock!\n"
          ]
        }
      ]
    },
    {
      "cell_type": "markdown",
      "source": [
        "3].**inputs daily temperatures (morning and afternoon) for a week**"
      ],
      "metadata": {
        "id": "VL8xzqTb_Z2W"
      }
    },
    {
      "cell_type": "code",
      "source": [
        "import array\n",
        "\n",
        "# Function to calculate average temperature for each day\n",
        "def calculate_daily_average(morning_temps, afternoon_temps):\n",
        "    daily_avg = array.array('f', [])  # Using 'f' for float values\n",
        "    for i in range(7):\n",
        "        avg_temp = (morning_temps[i] + afternoon_temps[i]) / 2\n",
        "        daily_avg.append(avg_temp)\n",
        "    return daily_avg\n",
        "\n",
        "# Creating arrays to store morning and afternoon temperatures\n",
        "morning_temps = array.array('f', [])\n",
        "afternoon_temps = array.array('f', [])\n",
        "\n",
        "# Taking temperature input for 7 days\n",
        "print(\"Enter temperatures for 7 days (Morning and Afternoon):\")\n",
        "for i in range(7):\n",
        "    morning = float(input(f\"Day {i + 1} Morning Temperature: \"))\n",
        "    afternoon = float(input(f\"Day {i + 1} Afternoon Temperature: \"))\n",
        "    morning_temps.append(morning)\n",
        "    afternoon_temps.append(afternoon)\n",
        "\n",
        "# Calculating average temperatures\n",
        "average_temps = calculate_daily_average(morning_temps, afternoon_temps)\n",
        "\n",
        "# Displaying the results\n",
        "print(\"\\nAverage Temperature for Each Day:\")\n",
        "for i in range(7):\n",
        "    print(f\"Day {i + 1}: {average_temps[i]:.2f}°C\")\n"
      ],
      "metadata": {
        "colab": {
          "base_uri": "https://localhost:8080/"
        },
        "id": "mgj0rP7s_x-w",
        "outputId": "ac250486-f3bb-46fa-a635-cbc24916fa6d"
      },
      "execution_count": null,
      "outputs": [
        {
          "output_type": "stream",
          "name": "stdout",
          "text": [
            "Enter temperatures for 7 days (Morning and Afternoon):\n",
            "Day 1 Morning Temperature: 22\n",
            "Day 1 Afternoon Temperature: 34\n",
            "Day 2 Morning Temperature: 23\n",
            "Day 2 Afternoon Temperature: 43\n",
            "Day 3 Morning Temperature: 25\n",
            "Day 3 Afternoon Temperature: 37\n",
            "Day 4 Morning Temperature: 25\n",
            "Day 4 Afternoon Temperature: 35\n",
            "Day 5 Morning Temperature: 26\n",
            "Day 5 Afternoon Temperature: 35\n",
            "Day 6 Morning Temperature: 24\n",
            "Day 6 Afternoon Temperature: 37\n",
            "Day 7 Morning Temperature: 27\n",
            "Day 7 Afternoon Temperature: 39\n",
            "\n",
            "Average Temperature for Each Day:\n",
            "Day 1: 28.00°C\n",
            "Day 2: 33.00°C\n",
            "Day 3: 31.00°C\n",
            "Day 4: 30.00°C\n",
            "Day 5: 30.50°C\n",
            "Day 6: 30.50°C\n",
            "Day 7: 33.00°C\n"
          ]
        }
      ]
    },
    {
      "cell_type": "markdown",
      "source": [
        "4].**Employee Attendance Tracking**"
      ],
      "metadata": {
        "id": "MvUub45iADfW"
      }
    },
    {
      "cell_type": "code",
      "source": [
        "import array\n",
        "\n",
        "# Function to calculate total attendance for each employee\n",
        "def calculate_attendance(attendance_records):\n",
        "    total_attendance = array.array('i', [])  # Using 'i' for integer values\n",
        "    for record in attendance_records:\n",
        "        total_attendance.append(sum(record))  # Sum of presence (1s) in the week\n",
        "    return total_attendance\n",
        "\n",
        "# Input: Number of employees\n",
        "num_employees = int(input(\"Enter the number of employees: \"))\n",
        "\n",
        "# Creating a list of arrays to store attendance (1 for present, 0 for absent)\n",
        "attendance_records = []\n",
        "\n",
        "print(\"\\nEnter attendance for each employee (1 for Present, 0 for Absent) for 7 days:\")\n",
        "for i in range(num_employees):\n",
        "    print(f\"\\nEmployee {i + 1}:\")\n",
        "    attendance = array.array('i', [int(input(f\"Day {j + 1}: \")) for j in range(7)])\n",
        "    attendance_records.append(attendance)\n",
        "\n",
        "# Calculating total attendance for each employee\n",
        "total_attendance = calculate_attendance(attendance_records)\n",
        "\n",
        "# Displaying attendance summary\n",
        "print(\"\\nTotal Days Each Employee Was Present:\")\n",
        "for i, total in enumerate(total_attendance):\n",
        "    print(f\"Employee {i + 1}: {total} days\")\n"
      ],
      "metadata": {
        "colab": {
          "base_uri": "https://localhost:8080/"
        },
        "id": "2LWwOyG7Aefy",
        "outputId": "dc8b8449-2630-4b53-d88d-441761ace03f"
      },
      "execution_count": null,
      "outputs": [
        {
          "output_type": "stream",
          "name": "stdout",
          "text": [
            "Enter the number of employees: 2\n",
            "\n",
            "Enter attendance for each employee (1 for Present, 0 for Absent) for 7 days:\n",
            "\n",
            "Employee 1:\n",
            "Day 1: 1\n",
            "Day 2: 0\n",
            "Day 3: 1\n",
            "Day 4: 1\n",
            "Day 5: 0\n",
            "Day 6: 1\n",
            "Day 7: 1\n",
            "\n",
            "Employee 2:\n",
            "Day 1: 1\n",
            "Day 2: 0\n",
            "Day 3: 0\n",
            "Day 4: 1\n",
            "Day 5: 1\n",
            "Day 6: 1\n",
            "Day 7: 1\n",
            "\n",
            "Total Days Each Employee Was Present:\n",
            "Employee 1: 5 days\n",
            "Employee 2: 5 days\n"
          ]
        }
      ]
    },
    {
      "cell_type": "markdown",
      "source": [
        "**5].A bank tracks balances for multiple accounts input balances and alert if any account has a balance below the minimum required balance**"
      ],
      "metadata": {
        "id": "i9oAtVrRAuWi"
      }
    },
    {
      "cell_type": "code",
      "source": [
        "import array\n",
        "\n",
        "# Function to check for low balances\n",
        "def check_low_balances(balances, min_balance):\n",
        "    low_balance_accounts = []\n",
        "    for i, balance in enumerate(balances):\n",
        "        if balance < min_balance:\n",
        "            low_balance_accounts.append((i + 1, balance))  # Store account number and balance\n",
        "    return low_balance_accounts\n",
        "\n",
        "# Input: Number of bank accounts\n",
        "num_accounts = int(input(\"Enter the number of bank accounts: \"))\n",
        "\n",
        "# Creating an array to store account balances\n",
        "balances = array.array('f', [])\n",
        "\n",
        "# Taking balance input for each account\n",
        "for i in range(num_accounts):\n",
        "    balance = float(input(f\"Enter balance for Account {i + 1}: \"))\n",
        "    balances.append(balance)\n",
        "\n",
        "# Input: Minimum required balance\n",
        "min_balance = float(input(\"\\nEnter the minimum required balance: \"))\n",
        "\n",
        "# Checking for low balance accounts\n",
        "low_balance_accounts = check_low_balances(balances, min_balance)\n",
        "\n",
        "# Display results\n",
        "if low_balance_accounts:\n",
        "    print(\" The following accounts have a balance below the minimum required:\")\n",
        "    for account_id, balance in low_balance_accounts:\n",
        "        print(f\"Account {account_id}: Balance = ₹{balance:.2f}\")\n",
        "else:\n",
        "    print(\" All accounts meet the minimum balance requirement!\")\n"
      ],
      "metadata": {
        "colab": {
          "base_uri": "https://localhost:8080/"
        },
        "id": "TH_WkwovBtvH",
        "outputId": "62c7f882-18e1-43eb-8a63-0e70d3fabaf1"
      },
      "execution_count": null,
      "outputs": [
        {
          "output_type": "stream",
          "name": "stdout",
          "text": [
            "Enter the number of bank accounts: 3\n",
            "Enter balance for Account 1: 3000\n",
            "Enter balance for Account 2: 2999\n",
            "Enter balance for Account 3: 300\n",
            "\n",
            "Enter the minimum required balance: 2000\n",
            " The following accounts have a balance below the minimum required:\n",
            "Account 3: Balance = ₹300.00\n"
          ]
        }
      ]
    },
    {
      "cell_type": "markdown",
      "source": [
        "6].**Manage a quiz where each student answer multiple questions.Track scores and calculates total and average scores for each student**"
      ],
      "metadata": {
        "id": "WqqzVJSnCZ9E"
      }
    },
    {
      "cell_type": "code",
      "source": [
        "import array\n",
        "\n",
        "# Function to calculate total and average scores\n",
        "def calculate_scores(scores, num_questions):\n",
        "    total_scores = array.array('i', [])\n",
        "    average_scores = array.array('f', [])\n",
        "\n",
        "    for student_scores in scores:\n",
        "        total = sum(student_scores)\n",
        "        average = total / num_questions\n",
        "        total_scores.append(total)\n",
        "        average_scores.append(average)\n",
        "\n",
        "    return total_scores, average_scores\n",
        "\n",
        "# Input: Number of students and questions\n",
        "num_students = int(input(\"Enter the number of students: \"))\n",
        "num_questions = int(input(\"Enter the number of questions: \"))\n",
        "\n",
        "# Creating a list of arrays to store quiz scores\n",
        "quiz_scores = []\n",
        "\n",
        "print(\"\\nEnter quiz scores for each student (out of 10 per question):\")\n",
        "for i in range(num_students):\n",
        "    print(f\"\\nStudent {i + 1}:\")\n",
        "    scores = array.array('i', [int(input(f\"Question {j + 1} Score: \")) for j in range(num_questions)])\n",
        "    quiz_scores.append(scores)\n",
        "\n",
        "# Calculating total and average scores\n",
        "total_scores, average_scores = calculate_scores(quiz_scores, num_questions)\n",
        "\n",
        "# Displaying the results\n",
        "print(\"\\nQuiz Results:\")\n",
        "for i in range(num_students):\n",
        "    print(f\"Student {i + 1}: Total Score = {total_scores[i]}, Average Score = {average_scores[i]:.2f}\")\n"
      ],
      "metadata": {
        "colab": {
          "base_uri": "https://localhost:8080/"
        },
        "id": "92C69cmsBzvr",
        "outputId": "6608e7cc-2b08-4fc1-8d13-348adcec4652"
      },
      "execution_count": null,
      "outputs": [
        {
          "output_type": "stream",
          "name": "stdout",
          "text": [
            "Enter the number of students: 2\n",
            "Enter the number of questions: 3\n",
            "\n",
            "Enter quiz scores for each student (out of 10 per question):\n",
            "\n",
            "Student 1:\n",
            "Question 1 Score: 3\n",
            "Question 2 Score: 4\n",
            "Question 3 Score: 5\n",
            "\n",
            "Student 2:\n",
            "Question 1 Score: 6\n",
            "Question 2 Score: 5\n",
            "Question 3 Score: 3\n",
            "\n",
            "Quiz Results:\n",
            "Student 1: Total Score = 12, Average Score = 4.00\n",
            "Student 2: Total Score = 14, Average Score = 4.67\n"
          ]
        }
      ]
    }
  ]
}